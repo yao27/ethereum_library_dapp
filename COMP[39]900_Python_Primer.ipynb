{
  "cells": [
    {
      "cell_type": "markdown",
      "metadata": {
        "id": "view-in-github",
        "colab_type": "text"
      },
      "source": [
        "<a href=\"https://colab.research.google.com/github/yao27/ethereum_library_dapp/blob/master/COMP%5B39%5D900_Python_Primer.ipynb\" target=\"_parent\"><img src=\"https://colab.research.google.com/assets/colab-badge.svg\" alt=\"Open In Colab\"/></a>"
      ]
    },
    {
      "cell_type": "markdown",
      "metadata": {
        "id": "x7KF1kcjJ0qk"
      },
      "source": [
        "# COMP3900 Python Primer\n",
        "\n",
        "This primer will cover:\n",
        "\n",
        "1. Basic Python Datatypes and Functions\n",
        "2. Exercises for you to complete\n",
        "\n",
        "Please either make a copy of this notebook by either using `File > Save a copy to drive` or downloading a copy to run locally using `File > Download > Download .ipynb` to download a Python Notebook.\n",
        "\n",
        "Exercises from this are **due in Week 3 Lab Time.**"
      ]
    },
    {
      "cell_type": "markdown",
      "metadata": {
        "id": "4PsHPqlGKn2q"
      },
      "source": [
        "## Basic Python Datatypes and Functions"
      ]
    },
    {
      "cell_type": "code",
      "execution_count": null,
      "metadata": {
        "colab": {
          "base_uri": "https://localhost:8080/"
        },
        "id": "XrdV3CB9JmZJ",
        "outputId": "58c5e82f-4f6f-4b11-96d7-1ecc345eccbe"
      },
      "outputs": [
        {
          "name": "stdout",
          "output_type": "stream",
          "text": [
            "COMP3900\n",
            "COMP3900 COMP9900\n",
            "hello world\n",
            "The undergrad version of this course is COMP3900 and the postgrad version is COMP9900.\n",
            "comp3900\n"
          ]
        }
      ],
      "source": [
        "# comments can be written with a hash as with this comment\n",
        "\n",
        "# strings\n",
        "# can be denoted with either single quote or double quotes\n",
        "# there is no difference between these\n",
        "undergrad_course_name = 'COMP3900'\n",
        "postgrad_course_name = \"COMP9900\"\n",
        "\n",
        "# methods and functions\n",
        "# you can print strings using the print function\n",
        "print(undergrad_course_name)\n",
        "\n",
        "# you can print multiple strings one after the other using comma (separates each string with a space)\n",
        "print(undergrad_course_name, postgrad_course_name)\n",
        "\n",
        "# you can concatenate strings with +\n",
        "print(\"hello\" + \" \" + \"world\")\n",
        "\n",
        "# we can use format strings to construct complex strings in a more readable way\n",
        "print(f\"The undergrad version of this course is {undergrad_course_name} and the postgrad version is {postgrad_course_name}.\")\n",
        "\n",
        "# you can convert strings to uppercase with upper and lowercase with lower methods\n",
        "print(undergrad_course_name.lower())\n"
      ]
    },
    {
      "cell_type": "code",
      "source": [],
      "metadata": {
        "id": "sssZ1bDVu3Yw"
      },
      "execution_count": null,
      "outputs": []
    },
    {
      "cell_type": "code",
      "execution_count": null,
      "metadata": {
        "colab": {
          "base_uri": "https://localhost:8080/"
        },
        "id": "oOBpa9_4N_Tu",
        "outputId": "2eb0f6c6-be6a-46d5-96e5-00829fadc265"
      },
      "outputs": [
        {
          "name": "stdout",
          "output_type": "stream",
          "text": [
            "<class 'int'>\n",
            "<class 'float'>\n",
            "When we add these we get 8.0\n",
            "When we subtract these we get 2.0\n",
            "When we multiply these we get 15.0\n",
            "When we add divide we get 1.6666666666666667\n",
            "When we add floor divide we get 1.0\n",
            "5^8 = 390625\n"
          ]
        }
      ],
      "source": [
        "# integers and floats\n",
        "# python automatically determines whether something should be an integer or a float from its value\n",
        "number = 5 # this will be an int\n",
        "print(type(number))\n",
        "\n",
        "decimal = 3.0 # this will be a float\n",
        "print(type(decimal))\n",
        "\n",
        "added_numbers = number + decimal\n",
        "subtracted_numbers = number - decimal\n",
        "multiplied_numbers = number * decimal\n",
        "divided_numbers = number / decimal\n",
        "floor_div_numbers = number // decimal\n",
        "\n",
        "print(f\"When we add these we get {added_numbers}\")\n",
        "print(f\"When we subtract these we get {subtracted_numbers}\")\n",
        "print(f\"When we multiply these we get {multiplied_numbers}\")\n",
        "print(f\"When we add divide we get {divided_numbers}\")\n",
        "print(f\"When we add floor divide we get {floor_div_numbers}\") # floor division rounds down\n",
        "\n",
        "exponent = 8\n",
        "print(f\"{number}^{exponent} = {number ** exponent}\")"
      ]
    },
    {
      "cell_type": "code",
      "execution_count": null,
      "metadata": {
        "colab": {
          "base_uri": "https://localhost:8080/"
        },
        "id": "-PxVjMjKQMgd",
        "outputId": "d1e60fcf-8de0-4b0d-a451-01707ed2fac3"
      },
      "outputs": [
        {
          "name": "stdout",
          "output_type": "stream",
          "text": [
            "a is True\n",
            "not a is False\n",
            "b is False\n",
            "a and b is False\n",
            "a or b is True\n"
          ]
        }
      ],
      "source": [
        "# booleans\n",
        "a = True\n",
        "b = False\n",
        "print(f\"a is {a}\")\n",
        "print(f\"not a is {not a}\")\n",
        "print(f\"b is {b}\")\n",
        "print(f\"a and b is {a and b}\")\n",
        "print(f\"a or b is {a or b}\")"
      ]
    },
    {
      "cell_type": "code",
      "execution_count": null,
      "metadata": {
        "colab": {
          "background_save": true,
          "base_uri": "https://localhost:8080/"
        },
        "id": "jKo7RH81Qec1",
        "outputId": "1fa744e7-c87d-456c-e82f-cbd4c30cb108"
      },
      "outputs": [
        {
          "name": "stdout",
          "output_type": "stream",
          "text": [
            "['COMP3900']\n",
            "['COMP9900']\n",
            "['COMP3900', 'COMP9900']\n",
            "['COMP3900', 'COMP9900', 'COMP1234', 'COMP4321']\n",
            "COMP1234\n",
            "All items are:\n",
            "COMP3900\n",
            "COMP9900\n",
            "COMP1234\n",
            "COMP4321\n",
            "Sorting in-place gives [1, 4, 5, 7, 8]\n",
            "The sorted function keeps the original list as [1, 5, 4, 7, 8]\n",
            "The sorted function returns a sorted list as [1, 4, 5, 7, 8]\n"
          ]
        }
      ],
      "source": [
        "# lists\n",
        "# python has lists which are dynamically sized\n",
        "# this means you can keep adding elements to a list and it will grow in size\n",
        "undergrad_courses = [\"COMP3900\"]\n",
        "print(undergrad_courses)\n",
        "postgrad_courses = [\"COMP9900\"]\n",
        "print(postgrad_courses)\n",
        "\n",
        "all_courses = undergrad_courses + postgrad_courses\n",
        "print(all_courses)\n",
        "\n",
        "# you can add items to a list using append\n",
        "all_courses.append(\"COMP1234\")\n",
        "all_courses.append(\"COMP4321\")\n",
        "print(all_courses)\n",
        "\n",
        "# you can index the list\n",
        "print(all_courses[2]) # gives you the 3rd element in the list\n",
        "\n",
        "# you can iterate through a list\n",
        "print(\"All items are:\")\n",
        "for item in all_courses:\n",
        "  print(item)\n",
        "\n",
        "# you can sort lists\n",
        "# to sort a list in-place (the same list gets sorted)\n",
        "numbers = [1,5,4,7,8]\n",
        "numbers.sort()\n",
        "print(f\"Sorting in-place gives {numbers}\")\n",
        "\n",
        "# or you can use the sort function which retains the original\n",
        "numbers = [1,5,4,7,8]\n",
        "numbers_2 = sorted(numbers)\n",
        "print(f\"The sorted function keeps the original list as {numbers}\")\n",
        "print(f\"The sorted function returns a sorted list as {numbers_2}\")"
      ]
    },
    {
      "cell_type": "code",
      "execution_count": null,
      "metadata": {
        "id": "TAJ6jyOSRWey",
        "colab": {
          "base_uri": "https://localhost:8080/"
        },
        "outputId": "7f0fa012-e27f-403c-afe2-9a0b0e7b622e"
      },
      "outputs": [
        {
          "output_type": "stream",
          "name": "stdout",
          "text": [
            "Computer Science Project\n",
            "COMP3900 is called Computer Science Project\n",
            "COMP1511 is called Programming Fundamentals\n"
          ]
        }
      ],
      "source": [
        "# dictionaries\n",
        "# map keys and values\n",
        "course_names = {} # create an empty dictionary\n",
        "course_names[\"COMP3900\"] = \"Computer Science Project\"\n",
        "course_names[\"COMP1511\"] = \"Programming Fundamentals\"\n",
        "\n",
        "print(course_names[\"COMP3900\"])\n",
        "\n",
        "for course in course_names:\n",
        "  print(f\"{course} is called {course_names[course]}\")"
      ]
    },
    {
      "cell_type": "code",
      "source": [
        "# we can define our own classes\n",
        "class Fraction:\n",
        "  # runs when we initialise this object\n",
        "  def __init__(self, numerator, denominator):\n",
        "    self.numerator = numerator # set the attributes\n",
        "    self.denominator = denominator\n",
        "\n",
        "  def print_fraction(self):\n",
        "    print(f\"{self.numerator}/{self.denominator}\")\n",
        "\n",
        "  # adds an extra number to the fraction and return float answer\n",
        "  def to_float_plus_extra_number(self, add_extra_number):\n",
        "    return self.numerator / self.denominator + add_extra_number\n",
        "\n",
        "\n",
        "four_sevenths = Fraction(4, 7)\n",
        "four_sevenths.print_fraction()\n",
        "print(f\"5 + 4/7 = {four_sevenths.to_float_plus_extra_number(5)}\")"
      ],
      "metadata": {
        "colab": {
          "base_uri": "https://localhost:8080/"
        },
        "id": "dr5RMTip7JrP",
        "outputId": "35b40b5d-0d88-4d31-84e2-350ae088136f"
      },
      "execution_count": null,
      "outputs": [
        {
          "output_type": "stream",
          "name": "stdout",
          "text": [
            "4/7\n",
            "5 + 4/7 = 5.571428571428571\n"
          ]
        }
      ]
    },
    {
      "cell_type": "markdown",
      "source": [
        "# Exercises\n",
        "\n",
        "1. Create a `Student` class which can be initialised with a student's name and zID.\n",
        "2. Create a `ProjectCourse` class which can be initialised by its Term and Year offering. It must also contain an appropriate datatype to store students within the course.\n",
        "3. Create method `addStudent` which allows you to add a `Student` to the course\n",
        "4. Create method `containsStudent` which takes in a zID and returns a boolean `True` if the student is doing the course or `False` if the student is not.\n",
        "5. Create method `removeStudent` which allows you to remove a student from the course.\n",
        "6. Create a `ProjectClass` class which has a Term, Year, Start time (e.g. Monday 12pm) and location (e.g. Science and Engineering G01) and the tutor for the class.\n",
        "6. Create a `ProjectTutor` class which should be a subclass of `Student`. It needs an additional parameter to be initialised `classes` which should be a list of `ProjectClass` which list all the classes a tutor is taking.\n",
        "7. Create a method `coveringClass` for `ProjectTutor` which takes in a `ProjectClass` and a `ProjectTutor` which must reassign the tutor for the `ProjectClass`, add the class to the covering tutor and remove the class from the tutor who cannot make it.\n",
        "8. Write some testing that demonstrates that you have completed all the requirements above and ensure that it works correctly. You do not need to use a testing framework and it is enough to simply use `assert` statements to verify values or the `print` function.\n",
        "9. There are some edge-cases situations not addressed by the question. Identify at least one edge-case (any situation where the output is ambiguous) and write it down in your answer.\n",
        "\n",
        "For the above, there are many different ways to achive the correct results and many options to choose for the datatypes of each attribute for each class. There is some additional information you will need to research including how to create a subclass. As long as you meet the requirements listed and your methods work correctly, you will receive full marks for this section."
      ],
      "metadata": {
        "id": "9LPTWsel8i2P"
      }
    },
    {
      "cell_type": "code",
      "source": [
        "class Student:\n",
        "    def __init__(self, name, zID):\n",
        "        self.name = name\n",
        "        self.zID = zID\n",
        "\n",
        "class ProjectCourse:\n",
        "    def __init__(self, term, year):\n",
        "        self.term = term\n",
        "        self.year = year\n",
        "        self.students = {}  # 使用字典存储学生，以zID为键\n",
        "\n",
        "    def addStudent(self, student):\n",
        "        self.students[student.zID] = student\n",
        "\n",
        "    def containsStudent(self, zID):\n",
        "        return zID in self.students\n",
        "\n",
        "    def removeStudent(self, zID):\n",
        "        if zID in self.students:\n",
        "            del self.students[zID]\n",
        "\n",
        "class ProjectClass:\n",
        "    def __init__(self, term, year, start_time, location, tutor):\n",
        "        self.term = term\n",
        "        self.year = year\n",
        "        self.start_time = start_time\n",
        "        self.location = location\n",
        "        self.tutor = tutor\n",
        "\n",
        "class ProjectTutor(Student):\n",
        "    def __init__(self, name, zID, classes=[]):\n",
        "        super().__init__(name, zID)\n",
        "        self.classes = classes\n",
        "    def coveringClass(self, project_class, new_tutor):\n",
        "        # 将新导师分配给project_class\n",
        "        project_class.tutor = new_tutor\n",
        "        # 将project_class添加到新导师的课程列表中\n",
        "        new_tutor.classes.append(project_class)\n",
        "        # 从当前导师的课程列表中移除project_class\n",
        "        if project_class in self.classes: # Check if the class is in the list before removing\n",
        "            self.classes.remove(project_class)\n",
        "\n",
        "\n",
        "# 测试代码\n",
        "if __name__ == \"__main__\":\n",
        "    # 创建学生和课程\n",
        "    student1 = Student(\"Alice\", \"z123\")\n",
        "    course = ProjectCourse(\"Spring\", 2023)\n",
        "    course.addStudent(student1)\n",
        "\n",
        "    # 测试方法功能\n",
        "    assert course.containsStudent(\"z123\") == True\n",
        "    course.removeStudent(\"z123\")\n",
        "    assert course.containsStudent(\"z123\") == False\n",
        "\n",
        "    # 创建导师和课堂\n",
        "    tutor1 = ProjectTutor(\"Bob\", \"z456\")\n",
        "    tutor2 = ProjectTutor(\"Charlie\", \"z789\")\n",
        "    project_class = ProjectClass(\"Spring\", 2023, \"Monday 12pm\", \"Science and Engineering G01\", tutor1)\n",
        "    tutor1.classes.append(project_class)\n",
        "\n",
        "    # 更换课堂导师\n",
        "    tutor1.coveringClass(project_class, tutor2)\n",
        "\n",
        "    # 检查导师是否更新\n",
        "    assert project_class.tutor == tutor2\n",
        "    assert project_class in tutor2.classes\n",
        "    print(\"All tests passed!\")\n",
        "\n",
        "# 边缘情况\n",
        "# 1. 尝试移除一个不存在的学生应该被处理，而不是引发错误。\n"
      ],
      "metadata": {
        "id": "2TQ6P-Z6u5Sw",
        "outputId": "b94da4e0-4a0b-4fa5-d161-0a636ebf4031",
        "colab": {
          "base_uri": "https://localhost:8080/"
        }
      },
      "execution_count": 2,
      "outputs": [
        {
          "output_type": "stream",
          "name": "stdout",
          "text": [
            "All tests passed!\n"
          ]
        }
      ]
    }
  ],
  "metadata": {
    "colab": {
      "provenance": [],
      "include_colab_link": true
    },
    "kernelspec": {
      "display_name": "Python 3",
      "name": "python3"
    },
    "language_info": {
      "name": "python"
    }
  },
  "nbformat": 4,
  "nbformat_minor": 0
}